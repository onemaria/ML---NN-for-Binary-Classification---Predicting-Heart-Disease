{
  "nbformat": 4,
  "nbformat_minor": 0,
  "metadata": {
    "colab": {
      "name": "NN for Binary Classification.ipynb",
      "provenance": [],
      "collapsed_sections": [],
      "authorship_tag": "ABX9TyNhCPeJzEDbegdpaMx2nAGM"
    },
    "kernelspec": {
      "name": "python3",
      "display_name": "Python 3"
    },
    "language_info": {
      "name": "python"
    }
  },
  "cells": [
     {
      "cell_type": "code",
      "execution_count": 1,
      "metadata": {
        "id": "tz4rVhFvEOpH"
      },
      "outputs": [],
      "source": [
        "import numpy as np # matrix operations\n",
        "import pandas as pd # for loading CSV files\n",
        "import matplotlib.pyplot as plt # for Data Visualization"
      ]
    },
    {
      "cell_type": "code",
      "source": [
        "data = pd.read_csv(\"heart_disease.csv\")"
      ],
      "metadata": {
        "id": "sMxIxATlEhU8"
      },
      "execution_count": 2,
      "outputs": []
    },
    {
      "cell_type": "code",
      "source": [
        "data.head()"
      ],
      "metadata": {
        "id": "SFiOGR2KEhew",
        "colab": {
          "base_uri": "https://localhost:8080/",
          "height": 206
        },
        "outputId": "e60d22b8-97a2-4030-f0d7-998041969e71"
      },
      "execution_count": 3,
      "outputs": [
        {
          "output_type": "execute_result",
          "data": {
            "text/plain": [
              "   age  sex  cp  trestbps  chol  fbs  restecg  thalach  exang  oldpeak  slope  \\\n",
              "0   63    1   3       145   233    1        0      150      0      2.3      0   \n",
              "1   37    1   2       130   250    0        1      187      0      3.5      0   \n",
              "2   41    0   1       130   204    0        0      172      0      1.4      2   \n",
              "3   56    1   1       120   236    0        1      178      0      0.8      2   \n",
              "4   57    0   0       120   354    0        1      163      1      0.6      2   \n",
              "\n",
              "   ca  thal  target  \n",
              "0   0     1       1  \n",
              "1   0     2       1  \n",
              "2   0     2       1  \n",
              "3   0     2       1  \n",
              "4   0     2       1  "
            ],
            "text/html": [
              "\n",
              "  <div id=\"df-809d8d29-9e83-42e6-b03a-c3e199624a7f\">\n",
              "    <div class=\"colab-df-container\">\n",
              "      <div>\n",
              "<style scoped>\n",
              "    .dataframe tbody tr th:only-of-type {\n",
              "        vertical-align: middle;\n",
              "    }\n",
              "\n",
              "    .dataframe tbody tr th {\n",
              "        vertical-align: top;\n",
              "    }\n",
              "\n",
              "    .dataframe thead th {\n",
              "        text-align: right;\n",
              "    }\n",
              "</style>\n",
              "<table border=\"1\" class=\"dataframe\">\n",
              "  <thead>\n",
              "    <tr style=\"text-align: right;\">\n",
              "      <th></th>\n",
              "      <th>age</th>\n",
              "      <th>sex</th>\n",
              "      <th>cp</th>\n",
              "      <th>trestbps</th>\n",
              "      <th>chol</th>\n",
              "      <th>fbs</th>\n",
              "      <th>restecg</th>\n",
              "      <th>thalach</th>\n",
              "      <th>exang</th>\n",
              "      <th>oldpeak</th>\n",
              "      <th>slope</th>\n",
              "      <th>ca</th>\n",
              "      <th>thal</th>\n",
              "      <th>target</th>\n",
              "    </tr>\n",
              "  </thead>\n",
              "  <tbody>\n",
              "    <tr>\n",
              "      <th>0</th>\n",
              "      <td>63</td>\n",
              "      <td>1</td>\n",
              "      <td>3</td>\n",
              "      <td>145</td>\n",
              "      <td>233</td>\n",
              "      <td>1</td>\n",
              "      <td>0</td>\n",
              "      <td>150</td>\n",
              "      <td>0</td>\n",
              "      <td>2.3</td>\n",
              "      <td>0</td>\n",
              "      <td>0</td>\n",
              "      <td>1</td>\n",
              "      <td>1</td>\n",
              "    </tr>\n",
              "    <tr>\n",
              "      <th>1</th>\n",
              "      <td>37</td>\n",
              "      <td>1</td>\n",
              "      <td>2</td>\n",
              "      <td>130</td>\n",
              "      <td>250</td>\n",
              "      <td>0</td>\n",
              "      <td>1</td>\n",
              "      <td>187</td>\n",
              "      <td>0</td>\n",
              "      <td>3.5</td>\n",
              "      <td>0</td>\n",
              "      <td>0</td>\n",
              "      <td>2</td>\n",
              "      <td>1</td>\n",
              "    </tr>\n",
              "    <tr>\n",
              "      <th>2</th>\n",
              "      <td>41</td>\n",
              "      <td>0</td>\n",
              "      <td>1</td>\n",
              "      <td>130</td>\n",
              "      <td>204</td>\n",
              "      <td>0</td>\n",
              "      <td>0</td>\n",
              "      <td>172</td>\n",
              "      <td>0</td>\n",
              "      <td>1.4</td>\n",
              "      <td>2</td>\n",
              "      <td>0</td>\n",
              "      <td>2</td>\n",
              "      <td>1</td>\n",
              "    </tr>\n",
              "    <tr>\n",
              "      <th>3</th>\n",
              "      <td>56</td>\n",
              "      <td>1</td>\n",
              "      <td>1</td>\n",
              "      <td>120</td>\n",
              "      <td>236</td>\n",
              "      <td>0</td>\n",
              "      <td>1</td>\n",
              "      <td>178</td>\n",
              "      <td>0</td>\n",
              "      <td>0.8</td>\n",
              "      <td>2</td>\n",
              "      <td>0</td>\n",
              "      <td>2</td>\n",
              "      <td>1</td>\n",
              "    </tr>\n",
              "    <tr>\n",
              "      <th>4</th>\n",
              "      <td>57</td>\n",
              "      <td>0</td>\n",
              "      <td>0</td>\n",
              "      <td>120</td>\n",
              "      <td>354</td>\n",
              "      <td>0</td>\n",
              "      <td>1</td>\n",
              "      <td>163</td>\n",
              "      <td>1</td>\n",
              "      <td>0.6</td>\n",
              "      <td>2</td>\n",
              "      <td>0</td>\n",
              "      <td>2</td>\n",
              "      <td>1</td>\n",
              "    </tr>\n",
              "  </tbody>\n",
              "</table>\n",
              "</div>\n",
              "      <button class=\"colab-df-convert\" onclick=\"convertToInteractive('df-809d8d29-9e83-42e6-b03a-c3e199624a7f')\"\n",
              "              title=\"Convert this dataframe to an interactive table.\"\n",
              "              style=\"display:none;\">\n",
              "        \n",
              "  <svg xmlns=\"http://www.w3.org/2000/svg\" height=\"24px\"viewBox=\"0 0 24 24\"\n",
              "       width=\"24px\">\n",
              "    <path d=\"M0 0h24v24H0V0z\" fill=\"none\"/>\n",
              "    <path d=\"M18.56 5.44l.94 2.06.94-2.06 2.06-.94-2.06-.94-.94-2.06-.94 2.06-2.06.94zm-11 1L8.5 8.5l.94-2.06 2.06-.94-2.06-.94L8.5 2.5l-.94 2.06-2.06.94zm10 10l.94 2.06.94-2.06 2.06-.94-2.06-.94-.94-2.06-.94 2.06-2.06.94z\"/><path d=\"M17.41 7.96l-1.37-1.37c-.4-.4-.92-.59-1.43-.59-.52 0-1.04.2-1.43.59L10.3 9.45l-7.72 7.72c-.78.78-.78 2.05 0 2.83L4 21.41c.39.39.9.59 1.41.59.51 0 1.02-.2 1.41-.59l7.78-7.78 2.81-2.81c.8-.78.8-2.07 0-2.86zM5.41 20L4 18.59l7.72-7.72 1.47 1.35L5.41 20z\"/>\n",
              "  </svg>\n",
              "      </button>\n",
              "      \n",
              "  <style>\n",
              "    .colab-df-container {\n",
              "      display:flex;\n",
              "      flex-wrap:wrap;\n",
              "      gap: 12px;\n",
              "    }\n",
              "\n",
              "    .colab-df-convert {\n",
              "      background-color: #E8F0FE;\n",
              "      border: none;\n",
              "      border-radius: 50%;\n",
              "      cursor: pointer;\n",
              "      display: none;\n",
              "      fill: #1967D2;\n",
              "      height: 32px;\n",
              "      padding: 0 0 0 0;\n",
              "      width: 32px;\n",
              "    }\n",
              "\n",
              "    .colab-df-convert:hover {\n",
              "      background-color: #E2EBFA;\n",
              "      box-shadow: 0px 1px 2px rgba(60, 64, 67, 0.3), 0px 1px 3px 1px rgba(60, 64, 67, 0.15);\n",
              "      fill: #174EA6;\n",
              "    }\n",
              "\n",
              "    [theme=dark] .colab-df-convert {\n",
              "      background-color: #3B4455;\n",
              "      fill: #D2E3FC;\n",
              "    }\n",
              "\n",
              "    [theme=dark] .colab-df-convert:hover {\n",
              "      background-color: #434B5C;\n",
              "      box-shadow: 0px 1px 3px 1px rgba(0, 0, 0, 0.15);\n",
              "      filter: drop-shadow(0px 1px 2px rgba(0, 0, 0, 0.3));\n",
              "      fill: #FFFFFF;\n",
              "    }\n",
              "  </style>\n",
              "\n",
              "      <script>\n",
              "        const buttonEl =\n",
              "          document.querySelector('#df-809d8d29-9e83-42e6-b03a-c3e199624a7f button.colab-df-convert');\n",
              "        buttonEl.style.display =\n",
              "          google.colab.kernel.accessAllowed ? 'block' : 'none';\n",
              "\n",
              "        async function convertToInteractive(key) {\n",
              "          const element = document.querySelector('#df-809d8d29-9e83-42e6-b03a-c3e199624a7f');\n",
              "          const dataTable =\n",
              "            await google.colab.kernel.invokeFunction('convertToInteractive',\n",
              "                                                     [key], {});\n",
              "          if (!dataTable) return;\n",
              "\n",
              "          const docLinkHtml = 'Like what you see? Visit the ' +\n",
              "            '<a target=\"_blank\" href=https://colab.research.google.com/notebooks/data_table.ipynb>data table notebook</a>'\n",
              "            + ' to learn more about interactive tables.';\n",
              "          element.innerHTML = '';\n",
              "          dataTable['output_type'] = 'display_data';\n",
              "          await google.colab.output.renderOutput(dataTable, element);\n",
              "          const docLink = document.createElement('div');\n",
              "          docLink.innerHTML = docLinkHtml;\n",
              "          element.appendChild(docLink);\n",
              "        }\n",
              "      </script>\n",
              "    </div>\n",
              "  </div>\n",
              "  "
            ]
          },
          "metadata": {},
          "execution_count": 3
        }
      ]
    },
    {
      "cell_type": "code",
      "source": [
        "data.shape"
      ],
      "metadata": {
        "id": "k6-XkKUjEhis",
        "colab": {
          "base_uri": "https://localhost:8080/"
        },
        "outputId": "d28d4d27-65e2-424a-f4a9-b868c8b28e69"
      },
      "execution_count": 4,
      "outputs": [
        {
          "output_type": "execute_result",
          "data": {
            "text/plain": [
              "(303, 14)"
            ]
          },
          "metadata": {},
          "execution_count": 4
        }
      ]
    },
    {
      "cell_type": "code",
      "source": [
        "# removing the column that contains the data we are trying to predict ('target' column)\n",
        "X = data.drop('target', axis = 1) \n",
        "# axis=1 indicates that the column will be dropped and then this column is save in the y variable\n",
        "y = data['target']"
      ],
      "metadata": {
        "id": "rr9-mHe3EhlN"
      },
      "execution_count": 5,
      "outputs": []
    },
    {
      "cell_type": "code",
      "source": [
        "# split into train and test sets\n",
        "from sklearn.model_selection import train_test_split\n",
        "X_train, X_test, y_train, y_test = train_test_split(X, y, test_size = 0.2, random_state = 42)\n",
        "# random_state = 42 means that the split will be the same every time code is run"
      ],
      "metadata": {
        "id": "7wq-kMJwFA3F"
      },
      "execution_count": 6,
      "outputs": []
    },
    {
      "cell_type": "code",
      "source": [
        "X_train.shape[1] # number of features in the dataset"
      ],
      "metadata": {
        "id": "92szBUJjFBAe",
        "colab": {
          "base_uri": "https://localhost:8080/"
        },
        "outputId": "79e9d56b-a8e8-4c80-ab8a-1868f7eb1dfc"
      },
      "execution_count": 7,
      "outputs": [
        {
          "output_type": "execute_result",
          "data": {
            "text/plain": [
              "13"
            ]
          },
          "metadata": {},
          "execution_count": 7
        }
      ]
    },
    {
      "cell_type": "markdown",
      "source": [
        "Model Building"
      ],
      "metadata": {
        "id": "q9oeuxNYFfOH"
      }
    },
    {
      "cell_type": "code",
      "source": [
        "import tensorflow as tf\n",
        "from tensorflow import keras\n",
        "from tensorflow.keras import Sequential\n",
        "from tensorflow.keras import layers\n",
        "from tensorflow.keras.layers import Dense"
      ],
      "metadata": {
        "id": "vsUabLdyFBEX"
      },
      "execution_count": 8,
      "outputs": []
    },
    {
      "cell_type": "code",
      "source": [
        "model = Sequential()\n",
        "model.add(Dense(64, activation = 'relu', input_shape=(X_train.shape[1],))) # number of features is the same as the number of features in the dataset   \n",
        "model.add(Dense(32, activation = 'relu')) # 32 nodes\n",
        "model.add(Dense(16, activation = 'relu')) # 16 nodes\n",
        "model.add(Dense(8, activation = 'relu')) # 8 nodes\n",
        "model.add(Dense(1, activation = 'sigmoid')) \n",
        "# sigmoid function is used in the output layer bc it gives a probability between 0 and 1 which is useful in classification\n"
      ],
      "metadata": {
        "id": "CaII81SpFiOk"
      },
      "execution_count": 9,
      "outputs": []
    },
    {
      "cell_type": "markdown",
      "source": [
        "Model Compilation"
      ],
      "metadata": {
        "id": "dPGIujipGs16"
      }
    },
    {
      "cell_type": "code",
      "source": [
        "from tensorflow.keras.optimizers import RMSprop # RMSprop, which stands for Root Mean Square Propagation, is a gradient descent optimization algorithm.\n",
        "optimizer = RMSprop(0.01) # learning rate = 0.001\n",
        "model.compile(loss='binary_crossentropy', optimizer = optimizer, metrics=['accuracy']) # the loss function is binary_crossentropy - the usual choice for binary classification problems that give output in the form of probability"
      ],
      "metadata": {
        "id": "nQccCQkiGudW"
      },
      "execution_count": 19,
      "outputs": []
    },
    {
      "cell_type": "code",
      "source": [
        "model.summary()"
      ],
      "metadata": {
        "id": "o-Vy1sfFHm2o",
        "colab": {
          "base_uri": "https://localhost:8080/"
        },
        "outputId": "d4120a72-5dec-45a9-febc-75aa9fef7640"
      },
      "execution_count": 13,
      "outputs": [
        {
          "output_type": "stream",
          "name": "stdout",
          "text": [
            "Model: \"sequential\"\n",
            "_________________________________________________________________\n",
            " Layer (type)                Output Shape              Param #   \n",
            "=================================================================\n",
            " dense (Dense)               (None, 64)                896       \n",
            "                                                                 \n",
            " dense_1 (Dense)             (None, 32)                2080      \n",
            "                                                                 \n",
            " dense_2 (Dense)             (None, 16)                528       \n",
            "                                                                 \n",
            " dense_3 (Dense)             (None, 8)                 136       \n",
            "                                                                 \n",
            " dense_4 (Dense)             (None, 1)                 9         \n",
            "                                                                 \n",
            "=================================================================\n",
            "Total params: 3,649\n",
            "Trainable params: 3,649\n",
            "Non-trainable params: 0\n",
            "_________________________________________________________________\n"
          ]
        }
      ]
    },
    {
      "cell_type": "code",
      "source": [
        "from tensorflow.keras.utils import plot_model\n",
        "plot_model(model)"
      ],
      "metadata": {
        "id": "JJSyyra1Ho5u",
        "colab": {
          "base_uri": "https://localhost:8080/",
          "height": 564
        },
        "outputId": "44d620bc-57d5-4cc4-c2cc-7876b1cdc253"
      },
      "execution_count": 20,
      "outputs": [
        {
          "output_type": "execute_result",
          "data": {
            "text/plain": [
              "<IPython.core.display.Image object>"
            ],
            "image/png": "[encoded data removed]"
          },
          "metadata": {},
          "execution_count": 20
        }
      ]
    },
    {
      "cell_type": "markdown",
      "source": [
        "Model Training"
      ],
      "metadata": {
        "id": "QoCPRjyTH2UG"
      }
    },
    {
      "cell_type": "code",
      "source": [
        "# model is trained initially for 200 epochs with a batch size of 10\n",
        "# the training set is split again into validation data and training data to evaluate itself at the end of each epoch\n",
        "history = model.fit(X_train, y_train, validation_split=0.2, epochs=200, batch_size=10, verbose=1)"
      ],
      "metadata": {
        "id": "e2XuD6rLH4pL",
        "colab": {
          "base_uri": "https://localhost:8080/"
        },
        "outputId": "488d1f69-ceac-4ad5-809f-d82f4f95138d"
      },
      "execution_count": 21,
      "outputs": [
        {
          "output_type": "stream",
          "name": "stdout",
          "text": [
            "Epoch 1/200\n",
            "20/20 [==============================] - 2s 27ms/step - loss: 3.0009 - accuracy: 0.6062 - val_loss: 0.9291 - val_accuracy: 0.5714\n",
            "Epoch 2/200\n",
            "20/20 [==============================] - 0s 5ms/step - loss: 0.8295 - accuracy: 0.5544 - val_loss: 0.7079 - val_accuracy: 0.5918\n",
            "Epoch 3/200\n",
            "20/20 [==============================] - 0s 5ms/step - loss: 0.7552 - accuracy: 0.5492 - val_loss: 0.6774 - val_accuracy: 0.5714\n",
            "Epoch 4/200\n",
            "20/20 [==============================] - 0s 5ms/step - loss: 0.6903 - accuracy: 0.5751 - val_loss: 0.6793 - val_accuracy: 0.6122\n",
            "Epoch 5/200\n",
            "20/20 [==============================] - 0s 6ms/step - loss: 0.7841 - accuracy: 0.5233 - val_loss: 0.6752 - val_accuracy: 0.5714\n",
            "Epoch 6/200\n",
            "20/20 [==============================] - 0s 5ms/step - loss: 0.6863 - accuracy: 0.5389 - val_loss: 0.6647 - val_accuracy: 0.5714\n",
            "Epoch 7/200\n",
            "20/20 [==============================] - 0s 4ms/step - loss: 0.7457 - accuracy: 0.5440 - val_loss: 0.6737 - val_accuracy: 0.6939\n",
            "Epoch 8/200\n",
            "20/20 [==============================] - 0s 5ms/step - loss: 0.6772 - accuracy: 0.5855 - val_loss: 0.6478 - val_accuracy: 0.4286\n",
            "Epoch 9/200\n",
            "20/20 [==============================] - 0s 5ms/step - loss: 0.9655 - accuracy: 0.6114 - val_loss: 0.6105 - val_accuracy: 0.7143\n",
            "Epoch 10/200\n",
            "20/20 [==============================] - 0s 6ms/step - loss: 0.7298 - accuracy: 0.6632 - val_loss: 0.5053 - val_accuracy: 0.7959\n",
            "Epoch 11/200\n",
            "20/20 [==============================] - 0s 5ms/step - loss: 0.5600 - accuracy: 0.7202 - val_loss: 2.0502 - val_accuracy: 0.4286\n",
            "Epoch 12/200\n",
            "20/20 [==============================] - 0s 6ms/step - loss: 0.7654 - accuracy: 0.6477 - val_loss: 0.5884 - val_accuracy: 0.7347\n",
            "Epoch 13/200\n",
            "20/20 [==============================] - 0s 5ms/step - loss: 0.5956 - accuracy: 0.6632 - val_loss: 1.0069 - val_accuracy: 0.6122\n",
            "Epoch 14/200\n",
            "20/20 [==============================] - 0s 5ms/step - loss: 0.7776 - accuracy: 0.5751 - val_loss: 0.6291 - val_accuracy: 0.7551\n",
            "Epoch 15/200\n",
            "20/20 [==============================] - 0s 5ms/step - loss: 0.6489 - accuracy: 0.6580 - val_loss: 0.5387 - val_accuracy: 0.7959\n",
            "Epoch 16/200\n",
            "20/20 [==============================] - 0s 5ms/step - loss: 0.6264 - accuracy: 0.6995 - val_loss: 0.5197 - val_accuracy: 0.7755\n",
            "Epoch 17/200\n",
            "20/20 [==============================] - 0s 5ms/step - loss: 0.6491 - accuracy: 0.6528 - val_loss: 0.5431 - val_accuracy: 0.7755\n",
            "Epoch 18/200\n",
            "20/20 [==============================] - 0s 6ms/step - loss: 0.5872 - accuracy: 0.6995 - val_loss: 0.5099 - val_accuracy: 0.7755\n",
            "Epoch 19/200\n",
            "20/20 [==============================] - 0s 6ms/step - loss: 0.5788 - accuracy: 0.7150 - val_loss: 0.4811 - val_accuracy: 0.7551\n",
            "Epoch 20/200\n",
            "20/20 [==============================] - 0s 6ms/step - loss: 0.6014 - accuracy: 0.7306 - val_loss: 0.9381 - val_accuracy: 0.4898\n",
            "Epoch 21/200\n",
            "20/20 [==============================] - 0s 5ms/step - loss: 0.6180 - accuracy: 0.6839 - val_loss: 0.6324 - val_accuracy: 0.7143\n",
            "Epoch 22/200\n",
            "20/20 [==============================] - 0s 5ms/step - loss: 0.7056 - accuracy: 0.7513 - val_loss: 0.4980 - val_accuracy: 0.7755\n",
            "Epoch 23/200\n",
            "20/20 [==============================] - 0s 6ms/step - loss: 0.6455 - accuracy: 0.7358 - val_loss: 0.4711 - val_accuracy: 0.7551\n",
            "Epoch 24/200\n",
            "20/20 [==============================] - 0s 5ms/step - loss: 0.5399 - accuracy: 0.7461 - val_loss: 0.4468 - val_accuracy: 0.7959\n",
            "Epoch 25/200\n",
            "20/20 [==============================] - 0s 5ms/step - loss: 0.4977 - accuracy: 0.7513 - val_loss: 0.5939 - val_accuracy: 0.7551\n",
            "Epoch 26/200\n",
            "20/20 [==============================] - 0s 5ms/step - loss: 0.5913 - accuracy: 0.7306 - val_loss: 0.4780 - val_accuracy: 0.7551\n",
            "Epoch 27/200\n",
            "20/20 [==============================] - 0s 5ms/step - loss: 0.5319 - accuracy: 0.7720 - val_loss: 0.5972 - val_accuracy: 0.7551\n",
            "Epoch 28/200\n",
            "20/20 [==============================] - 0s 5ms/step - loss: 0.5981 - accuracy: 0.7306 - val_loss: 0.5998 - val_accuracy: 0.7551\n",
            "Epoch 29/200\n",
            "20/20 [==============================] - 0s 5ms/step - loss: 0.5610 - accuracy: 0.7047 - val_loss: 0.4042 - val_accuracy: 0.7755\n",
            "Epoch 30/200\n",
            "20/20 [==============================] - 0s 6ms/step - loss: 0.5513 - accuracy: 0.7668 - val_loss: 0.4376 - val_accuracy: 0.7551\n",
            "Epoch 31/200\n",
            "20/20 [==============================] - 0s 4ms/step - loss: 0.5459 - accuracy: 0.7668 - val_loss: 0.4408 - val_accuracy: 0.7551\n",
            "Epoch 32/200\n",
            "20/20 [==============================] - 0s 5ms/step - loss: 0.4999 - accuracy: 0.7461 - val_loss: 0.4797 - val_accuracy: 0.7959\n",
            "Epoch 33/200\n",
            "20/20 [==============================] - 0s 5ms/step - loss: 0.6474 - accuracy: 0.7150 - val_loss: 0.4354 - val_accuracy: 0.7959\n",
            "Epoch 34/200\n",
            "20/20 [==============================] - 0s 5ms/step - loss: 0.5004 - accuracy: 0.7876 - val_loss: 0.4828 - val_accuracy: 0.7551\n",
            "Epoch 35/200\n",
            "20/20 [==============================] - 0s 5ms/step - loss: 0.6531 - accuracy: 0.7720 - val_loss: 0.5049 - val_accuracy: 0.7551\n",
            "Epoch 36/200\n",
            "20/20 [==============================] - 0s 5ms/step - loss: 0.4880 - accuracy: 0.7824 - val_loss: 0.6635 - val_accuracy: 0.7143\n",
            "Epoch 37/200\n",
            "20/20 [==============================] - 0s 5ms/step - loss: 0.5547 - accuracy: 0.7306 - val_loss: 0.4445 - val_accuracy: 0.7959\n",
            "Epoch 38/200\n",
            "20/20 [==============================] - 0s 5ms/step - loss: 0.4768 - accuracy: 0.7513 - val_loss: 0.4521 - val_accuracy: 0.7755\n",
            "Epoch 39/200\n",
            "20/20 [==============================] - 0s 4ms/step - loss: 0.5656 - accuracy: 0.7306 - val_loss: 0.4253 - val_accuracy: 0.7755\n",
            "Epoch 40/200\n",
            "20/20 [==============================] - 0s 4ms/step - loss: 0.4471 - accuracy: 0.7979 - val_loss: 0.4984 - val_accuracy: 0.7143\n",
            "Epoch 41/200\n",
            "20/20 [==============================] - 0s 5ms/step - loss: 0.4955 - accuracy: 0.7513 - val_loss: 0.4574 - val_accuracy: 0.8163\n",
            "Epoch 42/200\n",
            "20/20 [==============================] - 0s 4ms/step - loss: 0.5618 - accuracy: 0.7513 - val_loss: 0.4821 - val_accuracy: 0.7959\n",
            "Epoch 43/200\n",
            "20/20 [==============================] - 0s 5ms/step - loss: 0.4629 - accuracy: 0.7772 - val_loss: 0.4441 - val_accuracy: 0.7959\n",
            "Epoch 44/200\n",
            "20/20 [==============================] - 0s 5ms/step - loss: 0.4975 - accuracy: 0.7720 - val_loss: 0.4348 - val_accuracy: 0.7959\n",
            "Epoch 45/200\n",
            "20/20 [==============================] - 0s 4ms/step - loss: 0.6145 - accuracy: 0.7668 - val_loss: 0.4435 - val_accuracy: 0.8163\n",
            "Epoch 46/200\n",
            "20/20 [==============================] - 0s 5ms/step - loss: 0.4690 - accuracy: 0.8031 - val_loss: 0.6473 - val_accuracy: 0.7143\n",
            "Epoch 47/200\n",
            "20/20 [==============================] - 0s 5ms/step - loss: 0.4818 - accuracy: 0.7617 - val_loss: 0.4265 - val_accuracy: 0.7959\n",
            "Epoch 48/200\n",
            "20/20 [==============================] - 0s 5ms/step - loss: 0.5075 - accuracy: 0.7720 - val_loss: 0.6101 - val_accuracy: 0.7959\n",
            "Epoch 49/200\n",
            "20/20 [==============================] - 0s 4ms/step - loss: 0.5718 - accuracy: 0.7202 - val_loss: 0.4982 - val_accuracy: 0.7755\n",
            "Epoch 50/200\n",
            "20/20 [==============================] - 0s 5ms/step - loss: 0.4778 - accuracy: 0.8031 - val_loss: 0.4135 - val_accuracy: 0.7959\n",
            "Epoch 51/200\n",
            "20/20 [==============================] - 0s 4ms/step - loss: 0.4736 - accuracy: 0.7565 - val_loss: 0.6751 - val_accuracy: 0.8163\n",
            "Epoch 52/200\n",
            "20/20 [==============================] - 0s 4ms/step - loss: 0.6516 - accuracy: 0.7306 - val_loss: 0.4390 - val_accuracy: 0.7755\n",
            "Epoch 53/200\n",
            "20/20 [==============================] - 0s 5ms/step - loss: 0.4470 - accuracy: 0.8342 - val_loss: 0.4265 - val_accuracy: 0.8163\n",
            "Epoch 54/200\n",
            "20/20 [==============================] - 0s 5ms/step - loss: 0.4845 - accuracy: 0.7720 - val_loss: 0.5130 - val_accuracy: 0.7551\n",
            "Epoch 55/200\n",
            "20/20 [==============================] - 0s 5ms/step - loss: 0.4613 - accuracy: 0.7617 - val_loss: 0.4040 - val_accuracy: 0.7959\n",
            "Epoch 56/200\n",
            "20/20 [==============================] - 0s 4ms/step - loss: 0.4596 - accuracy: 0.8031 - val_loss: 0.4669 - val_accuracy: 0.7959\n",
            "Epoch 57/200\n",
            "20/20 [==============================] - 0s 4ms/step - loss: 0.5335 - accuracy: 0.7617 - val_loss: 0.5273 - val_accuracy: 0.7143\n",
            "Epoch 58/200\n",
            "20/20 [==============================] - 0s 4ms/step - loss: 0.4535 - accuracy: 0.7876 - val_loss: 0.4387 - val_accuracy: 0.7551\n",
            "Epoch 59/200\n",
            "20/20 [==============================] - 0s 5ms/step - loss: 0.5016 - accuracy: 0.7927 - val_loss: 0.4486 - val_accuracy: 0.7551\n",
            "Epoch 60/200\n",
            "20/20 [==============================] - 0s 5ms/step - loss: 0.4582 - accuracy: 0.8031 - val_loss: 0.4496 - val_accuracy: 0.8163\n",
            "Epoch 61/200\n",
            "20/20 [==============================] - 0s 5ms/step - loss: 0.5296 - accuracy: 0.8238 - val_loss: 0.4939 - val_accuracy: 0.7347\n",
            "Epoch 62/200\n",
            "20/20 [==============================] - 0s 4ms/step - loss: 0.4407 - accuracy: 0.7720 - val_loss: 0.5722 - val_accuracy: 0.7755\n",
            "Epoch 63/200\n",
            "20/20 [==============================] - 0s 4ms/step - loss: 0.4756 - accuracy: 0.7668 - val_loss: 0.4359 - val_accuracy: 0.8367\n",
            "Epoch 64/200\n",
            "20/20 [==============================] - 0s 5ms/step - loss: 0.4861 - accuracy: 0.8031 - val_loss: 1.0475 - val_accuracy: 0.6939\n",
            "Epoch 65/200\n",
            "20/20 [==============================] - 0s 4ms/step - loss: 0.5147 - accuracy: 0.7720 - val_loss: 0.4137 - val_accuracy: 0.8163\n",
            "Epoch 66/200\n",
            "20/20 [==============================] - 0s 5ms/step - loss: 0.4862 - accuracy: 0.7979 - val_loss: 0.4331 - val_accuracy: 0.7551\n",
            "Epoch 67/200\n",
            "20/20 [==============================] - 0s 5ms/step - loss: 0.4530 - accuracy: 0.7824 - val_loss: 0.5251 - val_accuracy: 0.7347\n",
            "Epoch 68/200\n",
            "20/20 [==============================] - 0s 4ms/step - loss: 0.5398 - accuracy: 0.7876 - val_loss: 0.4504 - val_accuracy: 0.7755\n",
            "Epoch 69/200\n",
            "20/20 [==============================] - 0s 4ms/step - loss: 0.4571 - accuracy: 0.8031 - val_loss: 0.7082 - val_accuracy: 0.6531\n",
            "Epoch 70/200\n",
            "20/20 [==============================] - 0s 5ms/step - loss: 0.4665 - accuracy: 0.7772 - val_loss: 0.4031 - val_accuracy: 0.7959\n",
            "Epoch 71/200\n",
            "20/20 [==============================] - 0s 5ms/step - loss: 0.4226 - accuracy: 0.8031 - val_loss: 0.9378 - val_accuracy: 0.6327\n",
            "Epoch 72/200\n",
            "20/20 [==============================] - 0s 5ms/step - loss: 0.4710 - accuracy: 0.7772 - val_loss: 0.4405 - val_accuracy: 0.7959\n",
            "Epoch 73/200\n",
            "20/20 [==============================] - 0s 5ms/step - loss: 0.4963 - accuracy: 0.7824 - val_loss: 0.4926 - val_accuracy: 0.8163\n",
            "Epoch 74/200\n",
            "20/20 [==============================] - 0s 4ms/step - loss: 0.4265 - accuracy: 0.8135 - val_loss: 0.4808 - val_accuracy: 0.8163\n",
            "Epoch 75/200\n",
            "20/20 [==============================] - 0s 4ms/step - loss: 0.4705 - accuracy: 0.7668 - val_loss: 0.5288 - val_accuracy: 0.8367\n",
            "Epoch 76/200\n",
            "20/20 [==============================] - 0s 6ms/step - loss: 0.4391 - accuracy: 0.7927 - val_loss: 0.5788 - val_accuracy: 0.8163\n",
            "Epoch 77/200\n",
            "20/20 [==============================] - 0s 5ms/step - loss: 0.4451 - accuracy: 0.7876 - val_loss: 0.7342 - val_accuracy: 0.6531\n",
            "Epoch 78/200\n",
            "20/20 [==============================] - 0s 6ms/step - loss: 0.4365 - accuracy: 0.8031 - val_loss: 0.4108 - val_accuracy: 0.8163\n",
            "Epoch 79/200\n",
            "20/20 [==============================] - 0s 4ms/step - loss: 0.4594 - accuracy: 0.7927 - val_loss: 0.4471 - val_accuracy: 0.7959\n",
            "Epoch 80/200\n",
            "20/20 [==============================] - 0s 5ms/step - loss: 0.4253 - accuracy: 0.8342 - val_loss: 0.4338 - val_accuracy: 0.7959\n",
            "Epoch 81/200\n",
            "20/20 [==============================] - 0s 4ms/step - loss: 0.4497 - accuracy: 0.8187 - val_loss: 0.4303 - val_accuracy: 0.7959\n",
            "Epoch 82/200\n",
            "20/20 [==============================] - 0s 5ms/step - loss: 0.4845 - accuracy: 0.7876 - val_loss: 0.4077 - val_accuracy: 0.7755\n",
            "Epoch 83/200\n",
            "20/20 [==============================] - 0s 4ms/step - loss: 0.4312 - accuracy: 0.8031 - val_loss: 0.4272 - val_accuracy: 0.8163\n",
            "Epoch 84/200\n",
            "20/20 [==============================] - 0s 4ms/step - loss: 0.5195 - accuracy: 0.7876 - val_loss: 0.4598 - val_accuracy: 0.8163\n",
            "Epoch 85/200\n",
            "20/20 [==============================] - 0s 6ms/step - loss: 0.4327 - accuracy: 0.8083 - val_loss: 0.3978 - val_accuracy: 0.8163\n",
            "Epoch 86/200\n",
            "20/20 [==============================] - 0s 5ms/step - loss: 0.4596 - accuracy: 0.8342 - val_loss: 0.4207 - val_accuracy: 0.7755\n",
            "Epoch 87/200\n",
            "20/20 [==============================] - 0s 5ms/step - loss: 0.4524 - accuracy: 0.8135 - val_loss: 0.5972 - val_accuracy: 0.8163\n",
            "Epoch 88/200\n",
            "20/20 [==============================] - 0s 6ms/step - loss: 0.4561 - accuracy: 0.8031 - val_loss: 0.4062 - val_accuracy: 0.8163\n",
            "Epoch 89/200\n",
            "20/20 [==============================] - 0s 4ms/step - loss: 0.4810 - accuracy: 0.7720 - val_loss: 0.4794 - val_accuracy: 0.8163\n",
            "Epoch 90/200\n",
            "20/20 [==============================] - 0s 5ms/step - loss: 0.4937 - accuracy: 0.8238 - val_loss: 0.5733 - val_accuracy: 0.8163\n",
            "Epoch 91/200\n",
            "20/20 [==============================] - 0s 6ms/step - loss: 0.4928 - accuracy: 0.7306 - val_loss: 0.4104 - val_accuracy: 0.8163\n",
            "Epoch 92/200\n",
            "20/20 [==============================] - 0s 5ms/step - loss: 0.4352 - accuracy: 0.8083 - val_loss: 0.3948 - val_accuracy: 0.7755\n",
            "Epoch 93/200\n",
            "20/20 [==============================] - 0s 5ms/step - loss: 0.4797 - accuracy: 0.7927 - val_loss: 0.3867 - val_accuracy: 0.8163\n",
            "Epoch 94/200\n",
            "20/20 [==============================] - 0s 5ms/step - loss: 0.4383 - accuracy: 0.7876 - val_loss: 0.4140 - val_accuracy: 0.7347\n",
            "Epoch 95/200\n",
            "20/20 [==============================] - 0s 5ms/step - loss: 0.4892 - accuracy: 0.8031 - val_loss: 0.4246 - val_accuracy: 0.7755\n",
            "Epoch 96/200\n",
            "20/20 [==============================] - 0s 5ms/step - loss: 0.4072 - accuracy: 0.8187 - val_loss: 0.6297 - val_accuracy: 0.6735\n",
            "Epoch 97/200\n",
            "20/20 [==============================] - 0s 5ms/step - loss: 0.5311 - accuracy: 0.7876 - val_loss: 0.4257 - val_accuracy: 0.7551\n",
            "Epoch 98/200\n",
            "20/20 [==============================] - 0s 5ms/step - loss: 0.3978 - accuracy: 0.8342 - val_loss: 0.6882 - val_accuracy: 0.7143\n",
            "Epoch 99/200\n",
            "20/20 [==============================] - 0s 5ms/step - loss: 0.4796 - accuracy: 0.8031 - val_loss: 0.4007 - val_accuracy: 0.7959\n",
            "Epoch 100/200\n",
            "20/20 [==============================] - 0s 6ms/step - loss: 0.4241 - accuracy: 0.8031 - val_loss: 0.5236 - val_accuracy: 0.8163\n",
            "Epoch 101/200\n",
            "20/20 [==============================] - 0s 5ms/step - loss: 0.5374 - accuracy: 0.7565 - val_loss: 0.4138 - val_accuracy: 0.8163\n",
            "Epoch 102/200\n",
            "20/20 [==============================] - 0s 5ms/step - loss: 0.4977 - accuracy: 0.7824 - val_loss: 0.4964 - val_accuracy: 0.7755\n",
            "Epoch 103/200\n",
            "20/20 [==============================] - 0s 6ms/step - loss: 0.4545 - accuracy: 0.7979 - val_loss: 0.5310 - val_accuracy: 0.8163\n",
            "Epoch 104/200\n",
            "20/20 [==============================] - 0s 5ms/step - loss: 0.4485 - accuracy: 0.8238 - val_loss: 0.4724 - val_accuracy: 0.7347\n",
            "Epoch 105/200\n",
            "20/20 [==============================] - 0s 5ms/step - loss: 0.4737 - accuracy: 0.7772 - val_loss: 0.4534 - val_accuracy: 0.8163\n",
            "Epoch 106/200\n",
            "20/20 [==============================] - 0s 4ms/step - loss: 0.4787 - accuracy: 0.7979 - val_loss: 0.4931 - val_accuracy: 0.7551\n",
            "Epoch 107/200\n",
            "20/20 [==============================] - 0s 5ms/step - loss: 0.4376 - accuracy: 0.8083 - val_loss: 0.4350 - val_accuracy: 0.7959\n",
            "Epoch 108/200\n",
            "20/20 [==============================] - 0s 6ms/step - loss: 0.4399 - accuracy: 0.8031 - val_loss: 0.4059 - val_accuracy: 0.7551\n",
            "Epoch 109/200\n",
            "20/20 [==============================] - 0s 5ms/step - loss: 0.4724 - accuracy: 0.7876 - val_loss: 0.3729 - val_accuracy: 0.8163\n",
            "Epoch 110/200\n",
            "20/20 [==============================] - 0s 6ms/step - loss: 0.4462 - accuracy: 0.7927 - val_loss: 0.4426 - val_accuracy: 0.8163\n",
            "Epoch 111/200\n",
            "20/20 [==============================] - 0s 6ms/step - loss: 0.4613 - accuracy: 0.7668 - val_loss: 0.4148 - val_accuracy: 0.7755\n",
            "Epoch 112/200\n",
            "20/20 [==============================] - 0s 5ms/step - loss: 0.5412 - accuracy: 0.7824 - val_loss: 0.5421 - val_accuracy: 0.7143\n",
            "Epoch 113/200\n",
            "20/20 [==============================] - 0s 5ms/step - loss: 0.4568 - accuracy: 0.7927 - val_loss: 0.4112 - val_accuracy: 0.7959\n",
            "Epoch 114/200\n",
            "20/20 [==============================] - 0s 5ms/step - loss: 0.3882 - accuracy: 0.8135 - val_loss: 0.8583 - val_accuracy: 0.8163\n",
            "Epoch 115/200\n",
            "20/20 [==============================] - 0s 4ms/step - loss: 0.4354 - accuracy: 0.8187 - val_loss: 0.5015 - val_accuracy: 0.7347\n",
            "Epoch 116/200\n",
            "20/20 [==============================] - 0s 5ms/step - loss: 0.4643 - accuracy: 0.7927 - val_loss: 0.3790 - val_accuracy: 0.8163\n",
            "Epoch 117/200\n",
            "20/20 [==============================] - 0s 6ms/step - loss: 0.4210 - accuracy: 0.7927 - val_loss: 0.8502 - val_accuracy: 0.6735\n",
            "Epoch 118/200\n",
            "20/20 [==============================] - 0s 4ms/step - loss: 0.4524 - accuracy: 0.8342 - val_loss: 1.2310 - val_accuracy: 0.8163\n",
            "Epoch 119/200\n",
            "20/20 [==============================] - 0s 5ms/step - loss: 0.4551 - accuracy: 0.8031 - val_loss: 0.4757 - val_accuracy: 0.8163\n",
            "Epoch 120/200\n",
            "20/20 [==============================] - 0s 4ms/step - loss: 0.4705 - accuracy: 0.7876 - val_loss: 0.4861 - val_accuracy: 0.8163\n",
            "Epoch 121/200\n",
            "20/20 [==============================] - 0s 5ms/step - loss: 0.4409 - accuracy: 0.8031 - val_loss: 0.5929 - val_accuracy: 0.7551\n",
            "Epoch 122/200\n",
            "20/20 [==============================] - 0s 4ms/step - loss: 0.4141 - accuracy: 0.8083 - val_loss: 1.6254 - val_accuracy: 0.6122\n",
            "Epoch 123/200\n",
            "20/20 [==============================] - 0s 4ms/step - loss: 0.4343 - accuracy: 0.8083 - val_loss: 0.3797 - val_accuracy: 0.7959\n",
            "Epoch 124/200\n",
            "20/20 [==============================] - 0s 5ms/step - loss: 0.4043 - accuracy: 0.8238 - val_loss: 0.6190 - val_accuracy: 0.6735\n",
            "Epoch 125/200\n",
            "20/20 [==============================] - 0s 4ms/step - loss: 0.5082 - accuracy: 0.7876 - val_loss: 0.4380 - val_accuracy: 0.7959\n",
            "Epoch 126/200\n",
            "20/20 [==============================] - 0s 5ms/step - loss: 0.4206 - accuracy: 0.8083 - val_loss: 0.4465 - val_accuracy: 0.7551\n",
            "Epoch 127/200\n",
            "20/20 [==============================] - 0s 6ms/step - loss: 0.4737 - accuracy: 0.8238 - val_loss: 0.3952 - val_accuracy: 0.8163\n",
            "Epoch 128/200\n",
            "20/20 [==============================] - 0s 5ms/step - loss: 0.3741 - accuracy: 0.8290 - val_loss: 0.5919 - val_accuracy: 0.7959\n",
            "Epoch 129/200\n",
            "20/20 [==============================] - 0s 5ms/step - loss: 0.4752 - accuracy: 0.7668 - val_loss: 0.4671 - val_accuracy: 0.8163\n",
            "Epoch 130/200\n",
            "20/20 [==============================] - 0s 5ms/step - loss: 0.4149 - accuracy: 0.7876 - val_loss: 0.4085 - val_accuracy: 0.7959\n",
            "Epoch 131/200\n",
            "20/20 [==============================] - 0s 4ms/step - loss: 0.4243 - accuracy: 0.8135 - val_loss: 0.7353 - val_accuracy: 0.8163\n",
            "Epoch 132/200\n",
            "20/20 [==============================] - 0s 4ms/step - loss: 0.4826 - accuracy: 0.8290 - val_loss: 0.4508 - val_accuracy: 0.7755\n",
            "Epoch 133/200\n",
            "20/20 [==============================] - 0s 5ms/step - loss: 0.3709 - accuracy: 0.8342 - val_loss: 0.3719 - val_accuracy: 0.8163\n",
            "Epoch 134/200\n",
            "20/20 [==============================] - 0s 5ms/step - loss: 0.4314 - accuracy: 0.7979 - val_loss: 0.4809 - val_accuracy: 0.7551\n",
            "Epoch 135/200\n",
            "20/20 [==============================] - 0s 4ms/step - loss: 0.4425 - accuracy: 0.8238 - val_loss: 0.3837 - val_accuracy: 0.8163\n",
            "Epoch 136/200\n",
            "20/20 [==============================] - 0s 5ms/step - loss: 0.4043 - accuracy: 0.8083 - val_loss: 1.5254 - val_accuracy: 0.7755\n",
            "Epoch 137/200\n",
            "20/20 [==============================] - 0s 5ms/step - loss: 0.4659 - accuracy: 0.8238 - val_loss: 0.3699 - val_accuracy: 0.7959\n",
            "Epoch 138/200\n",
            "20/20 [==============================] - 0s 5ms/step - loss: 0.4127 - accuracy: 0.8290 - val_loss: 0.8095 - val_accuracy: 0.6531\n",
            "Epoch 139/200\n",
            "20/20 [==============================] - 0s 5ms/step - loss: 0.4651 - accuracy: 0.8031 - val_loss: 0.3617 - val_accuracy: 0.8163\n",
            "Epoch 140/200\n",
            "20/20 [==============================] - 0s 4ms/step - loss: 0.4174 - accuracy: 0.8446 - val_loss: 0.7017 - val_accuracy: 0.6735\n",
            "Epoch 141/200\n",
            "20/20 [==============================] - 0s 5ms/step - loss: 0.4829 - accuracy: 0.8031 - val_loss: 0.3911 - val_accuracy: 0.7551\n",
            "Epoch 142/200\n",
            "20/20 [==============================] - 0s 5ms/step - loss: 0.3720 - accuracy: 0.8342 - val_loss: 0.7553 - val_accuracy: 0.6735\n",
            "Epoch 143/200\n",
            "20/20 [==============================] - 0s 4ms/step - loss: 0.4305 - accuracy: 0.8083 - val_loss: 0.8557 - val_accuracy: 0.5918\n",
            "Epoch 144/200\n",
            "20/20 [==============================] - 0s 4ms/step - loss: 0.4505 - accuracy: 0.7979 - val_loss: 0.3746 - val_accuracy: 0.7959\n",
            "Epoch 145/200\n",
            "20/20 [==============================] - 0s 5ms/step - loss: 0.5471 - accuracy: 0.7824 - val_loss: 0.4250 - val_accuracy: 0.8163\n",
            "Epoch 146/200\n",
            "20/20 [==============================] - 0s 5ms/step - loss: 0.3829 - accuracy: 0.8342 - val_loss: 0.4272 - val_accuracy: 0.8163\n",
            "Epoch 147/200\n",
            "20/20 [==============================] - 0s 5ms/step - loss: 0.4658 - accuracy: 0.8031 - val_loss: 0.4151 - val_accuracy: 0.7551\n",
            "Epoch 148/200\n",
            "20/20 [==============================] - 0s 6ms/step - loss: 0.5403 - accuracy: 0.8394 - val_loss: 0.3851 - val_accuracy: 0.7959\n",
            "Epoch 149/200\n",
            "20/20 [==============================] - 0s 4ms/step - loss: 0.3813 - accuracy: 0.8342 - val_loss: 0.4259 - val_accuracy: 0.7959\n",
            "Epoch 150/200\n",
            "20/20 [==============================] - 0s 5ms/step - loss: 0.4038 - accuracy: 0.8083 - val_loss: 0.4654 - val_accuracy: 0.7959\n",
            "Epoch 151/200\n",
            "20/20 [==============================] - 0s 6ms/step - loss: 0.4343 - accuracy: 0.8290 - val_loss: 0.5885 - val_accuracy: 0.6327\n",
            "Epoch 152/200\n",
            "20/20 [==============================] - 0s 6ms/step - loss: 0.3858 - accuracy: 0.8083 - val_loss: 0.5169 - val_accuracy: 0.7959\n",
            "Epoch 153/200\n",
            "20/20 [==============================] - 0s 5ms/step - loss: 0.4854 - accuracy: 0.8187 - val_loss: 0.3933 - val_accuracy: 0.7755\n",
            "Epoch 154/200\n",
            "20/20 [==============================] - 0s 6ms/step - loss: 0.4012 - accuracy: 0.8290 - val_loss: 0.7496 - val_accuracy: 0.6939\n",
            "Epoch 155/200\n",
            "20/20 [==============================] - 0s 5ms/step - loss: 0.4178 - accuracy: 0.8497 - val_loss: 0.6611 - val_accuracy: 0.7143\n",
            "Epoch 156/200\n",
            "20/20 [==============================] - 0s 5ms/step - loss: 0.3774 - accuracy: 0.8290 - val_loss: 0.5973 - val_accuracy: 0.7959\n",
            "Epoch 157/200\n",
            "20/20 [==============================] - 0s 5ms/step - loss: 0.3954 - accuracy: 0.8394 - val_loss: 0.4317 - val_accuracy: 0.7959\n",
            "Epoch 158/200\n",
            "20/20 [==============================] - 0s 5ms/step - loss: 0.4779 - accuracy: 0.8031 - val_loss: 0.5161 - val_accuracy: 0.8163\n",
            "Epoch 159/200\n",
            "20/20 [==============================] - 0s 4ms/step - loss: 0.5118 - accuracy: 0.8083 - val_loss: 0.4033 - val_accuracy: 0.8163\n",
            "Epoch 160/200\n",
            "20/20 [==============================] - 0s 5ms/step - loss: 0.3925 - accuracy: 0.8031 - val_loss: 0.6293 - val_accuracy: 0.8367\n",
            "Epoch 161/200\n",
            "20/20 [==============================] - 0s 5ms/step - loss: 0.4349 - accuracy: 0.7927 - val_loss: 0.5689 - val_accuracy: 0.7959\n",
            "Epoch 162/200\n",
            "20/20 [==============================] - 0s 6ms/step - loss: 0.4119 - accuracy: 0.8394 - val_loss: 0.4288 - val_accuracy: 0.7755\n",
            "Epoch 163/200\n",
            "20/20 [==============================] - 0s 4ms/step - loss: 0.4472 - accuracy: 0.7979 - val_loss: 0.4385 - val_accuracy: 0.7755\n",
            "Epoch 164/200\n",
            "20/20 [==============================] - 0s 5ms/step - loss: 0.4198 - accuracy: 0.8187 - val_loss: 0.6138 - val_accuracy: 0.7347\n",
            "Epoch 165/200\n",
            "20/20 [==============================] - 0s 5ms/step - loss: 0.4690 - accuracy: 0.7409 - val_loss: 0.4262 - val_accuracy: 0.7551\n",
            "Epoch 166/200\n",
            "20/20 [==============================] - 0s 5ms/step - loss: 0.4056 - accuracy: 0.8342 - val_loss: 0.4297 - val_accuracy: 0.8163\n",
            "Epoch 167/200\n",
            "20/20 [==============================] - 0s 5ms/step - loss: 0.4442 - accuracy: 0.7979 - val_loss: 0.7311 - val_accuracy: 0.7755\n",
            "Epoch 168/200\n",
            "20/20 [==============================] - 0s 5ms/step - loss: 0.4116 - accuracy: 0.7927 - val_loss: 0.4515 - val_accuracy: 0.8367\n",
            "Epoch 169/200\n",
            "20/20 [==============================] - 0s 4ms/step - loss: 0.5221 - accuracy: 0.7979 - val_loss: 0.3718 - val_accuracy: 0.8163\n",
            "Epoch 170/200\n",
            "20/20 [==============================] - 0s 6ms/step - loss: 0.4874 - accuracy: 0.8083 - val_loss: 0.5064 - val_accuracy: 0.7755\n",
            "Epoch 171/200\n",
            "20/20 [==============================] - 0s 5ms/step - loss: 0.3954 - accuracy: 0.8238 - val_loss: 0.4542 - val_accuracy: 0.7755\n",
            "Epoch 172/200\n",
            "20/20 [==============================] - 0s 6ms/step - loss: 0.4477 - accuracy: 0.8031 - val_loss: 0.5917 - val_accuracy: 0.8163\n",
            "Epoch 173/200\n",
            "20/20 [==============================] - 0s 5ms/step - loss: 0.3868 - accuracy: 0.8238 - val_loss: 0.6144 - val_accuracy: 0.8163\n",
            "Epoch 174/200\n",
            "20/20 [==============================] - 0s 5ms/step - loss: 0.4988 - accuracy: 0.8290 - val_loss: 0.4985 - val_accuracy: 0.7959\n",
            "Epoch 175/200\n",
            "20/20 [==============================] - 0s 5ms/step - loss: 0.3998 - accuracy: 0.8187 - val_loss: 0.5539 - val_accuracy: 0.7755\n",
            "Epoch 176/200\n",
            "20/20 [==============================] - 0s 6ms/step - loss: 0.3775 - accuracy: 0.7927 - val_loss: 1.4224 - val_accuracy: 0.6531\n",
            "Epoch 177/200\n",
            "20/20 [==============================] - 0s 5ms/step - loss: 0.4927 - accuracy: 0.8187 - val_loss: 0.5994 - val_accuracy: 0.7143\n",
            "Epoch 178/200\n",
            "20/20 [==============================] - 0s 5ms/step - loss: 0.3606 - accuracy: 0.8497 - val_loss: 0.9288 - val_accuracy: 0.8163\n",
            "Epoch 179/200\n",
            "20/20 [==============================] - 0s 5ms/step - loss: 0.4191 - accuracy: 0.8394 - val_loss: 0.3953 - val_accuracy: 0.7755\n",
            "Epoch 180/200\n",
            "20/20 [==============================] - 0s 5ms/step - loss: 0.5010 - accuracy: 0.8083 - val_loss: 0.4840 - val_accuracy: 0.7959\n",
            "Epoch 181/200\n",
            "20/20 [==============================] - 0s 5ms/step - loss: 0.3741 - accuracy: 0.8394 - val_loss: 0.4750 - val_accuracy: 0.7755\n",
            "Epoch 182/200\n",
            "20/20 [==============================] - 0s 5ms/step - loss: 0.4020 - accuracy: 0.8497 - val_loss: 0.4778 - val_accuracy: 0.6939\n",
            "Epoch 183/200\n",
            "20/20 [==============================] - 0s 6ms/step - loss: 0.4144 - accuracy: 0.8083 - val_loss: 0.4570 - val_accuracy: 0.7755\n",
            "Epoch 184/200\n",
            "20/20 [==============================] - 0s 6ms/step - loss: 0.5055 - accuracy: 0.8031 - val_loss: 0.4692 - val_accuracy: 0.7143\n",
            "Epoch 185/200\n",
            "20/20 [==============================] - 0s 5ms/step - loss: 0.4019 - accuracy: 0.8031 - val_loss: 0.4225 - val_accuracy: 0.7551\n",
            "Epoch 186/200\n",
            "20/20 [==============================] - 0s 5ms/step - loss: 0.3875 - accuracy: 0.8342 - val_loss: 0.9219 - val_accuracy: 0.7551\n",
            "Epoch 187/200\n",
            "20/20 [==============================] - 0s 5ms/step - loss: 0.4625 - accuracy: 0.8135 - val_loss: 0.5128 - val_accuracy: 0.7347\n",
            "Epoch 188/200\n",
            "20/20 [==============================] - 0s 5ms/step - loss: 0.4253 - accuracy: 0.8342 - val_loss: 0.5776 - val_accuracy: 0.7755\n",
            "Epoch 189/200\n",
            "20/20 [==============================] - 0s 5ms/step - loss: 0.5205 - accuracy: 0.7824 - val_loss: 0.4857 - val_accuracy: 0.7551\n",
            "Epoch 190/200\n",
            "20/20 [==============================] - 0s 6ms/step - loss: 0.3906 - accuracy: 0.8446 - val_loss: 0.4311 - val_accuracy: 0.8163\n",
            "Epoch 191/200\n",
            "20/20 [==============================] - 0s 6ms/step - loss: 0.4291 - accuracy: 0.8187 - val_loss: 0.3694 - val_accuracy: 0.8163\n",
            "Epoch 192/200\n",
            "20/20 [==============================] - 0s 5ms/step - loss: 0.4150 - accuracy: 0.7927 - val_loss: 0.6109 - val_accuracy: 0.7143\n",
            "Epoch 193/200\n",
            "20/20 [==============================] - 0s 6ms/step - loss: 0.4387 - accuracy: 0.8238 - val_loss: 0.7330 - val_accuracy: 0.6735\n",
            "Epoch 194/200\n",
            "20/20 [==============================] - 0s 5ms/step - loss: 0.4095 - accuracy: 0.8187 - val_loss: 0.7274 - val_accuracy: 0.6939\n",
            "Epoch 195/200\n",
            "20/20 [==============================] - 0s 5ms/step - loss: 0.4707 - accuracy: 0.8342 - val_loss: 0.5928 - val_accuracy: 0.7143\n",
            "Epoch 196/200\n",
            "20/20 [==============================] - 0s 6ms/step - loss: 0.3976 - accuracy: 0.8290 - val_loss: 0.4464 - val_accuracy: 0.7755\n",
            "Epoch 197/200\n",
            "20/20 [==============================] - 0s 6ms/step - loss: 0.4374 - accuracy: 0.8290 - val_loss: 0.3916 - val_accuracy: 0.7959\n",
            "Epoch 198/200\n",
            "20/20 [==============================] - 0s 6ms/step - loss: 0.4241 - accuracy: 0.8290 - val_loss: 0.4121 - val_accuracy: 0.7755\n",
            "Epoch 199/200\n",
            "20/20 [==============================] - 0s 5ms/step - loss: 0.3617 - accuracy: 0.8497 - val_loss: 0.7157 - val_accuracy: 0.7959\n",
            "Epoch 200/200\n",
            "20/20 [==============================] - 0s 5ms/step - loss: 0.4166 - accuracy: 0.8135 - val_loss: 0.4775 - val_accuracy: 0.7755\n"
          ]
        }
      ]
    },
    {
      "cell_type": "code",
      "source": [
        "# evaluate the model on the initial X_test we created with the split\n",
        "model.evaluate(X_test, y_test)"
      ],
      "metadata": {
        "id": "m-jc_wtuH1oj",
        "colab": {
          "base_uri": "https://localhost:8080/"
        },
        "outputId": "dc529cb0-4cf1-41a7-e3b1-e86fd5667715"
      },
      "execution_count": 22,
      "outputs": [
        {
          "output_type": "stream",
          "name": "stdout",
          "text": [
            "2/2 [==============================] - 0s 5ms/step - loss: 0.6488 - accuracy: 0.8361\n"
          ]
        },
        {
          "output_type": "execute_result",
          "data": {
            "text/plain": [
              "[0.6488199830055237, 0.8360655903816223]"
            ]
          },
          "metadata": {},
          "execution_count": 22
        }
      ]
    },
    {
      "cell_type": "markdown",
      "source": [
        "Model Accuracy"
      ],
      "metadata": {
        "id": "xsUV6kUsIny_"
      }
    },
    {
      "cell_type": "code",
      "source": [
        "plt.plot(history.history['accuracy'])\n",
        "plt.plot(history.history['val_accuracy'])\n",
        "plt.title('Model Accuracy')\n",
        "plt.ylabel('accuracy')\n",
        "plt.xlabel('epoch')\n",
        "plt.legend(['Train', 'Validation'])\n",
        "plt.show()"
      ],
      "metadata": {
        "id": "6X0cK4rUIpCh",
        "colab": {
          "base_uri": "https://localhost:8080/",
          "height": 295
        },
        "outputId": "109cf61e-0f15-4a1b-a0ed-99f7a469f004"
      },
      "execution_count": 23,
      "outputs": [
        {
          "output_type": "display_data",
          "data": {
            "text/plain": [
              "<Figure size 432x288 with 1 Axes>"
            ],
            "image/png": "[encoded data removed]"
          },
          "metadata": {
            "needs_background": "light"
          }
        }
      ]
    },
    {
      "cell_type": "markdown",
      "source": [
        "Model Loss"
      ],
      "metadata": {
        "id": "1l7hgGKSIw8P"
      }
    },
    {
      "cell_type": "code",
      "source": [
        "plt.plot(history.history['loss'])\n",
        "plt.plot(history.history['val_loss'])\n",
        "plt.title('Model Loss')\n",
        "plt.ylabel('loss')\n",
        "plt.xlabel('epoch')\n",
        "plt.legend(['Train', 'Validation'])\n",
        "plt.show()"
      ],
      "metadata": {
        "id": "qbH-L8vFIz_6",
        "colab": {
          "base_uri": "https://localhost:8080/",
          "height": 295
        },
        "outputId": "0b0099ce-b900-4259-c46e-6bda25fb0228"
      },
      "execution_count": 24,
      "outputs": [
        {
          "output_type": "display_data",
          "data": {
            "text/plain": [
              "<Figure size 432x288 with 1 Axes>"
            ],
            "image/png": "[encoded data removed]"
          },
          "metadata": {
            "needs_background": "light"
          }
        }
      ]
    }
  ]
}
